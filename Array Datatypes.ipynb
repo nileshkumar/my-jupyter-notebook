{
 "cells": [
  {
   "cell_type": "code",
   "execution_count": 3,
   "metadata": {},
   "outputs": [
    {
     "name": "stdout",
     "output_type": "stream",
     "text": [
      "[11 22]\n",
      "int64\n"
     ]
    }
   ],
   "source": [
    "import numpy as np\n",
    "ex1 = np.array([11,22])\n",
    "print(ex1)\n",
    "print(ex1.dtype)"
   ]
  },
  {
   "cell_type": "code",
   "execution_count": 7,
   "metadata": {},
   "outputs": [
    {
     "name": "stdout",
     "output_type": "stream",
     "text": [
      "float64\n",
      "[44.11 29.56]\n"
     ]
    }
   ],
   "source": [
    "ex2 = np.array([44.11,29.56])\n",
    "print(ex2.dtype)\n",
    "print(ex2)"
   ]
  },
  {
   "cell_type": "code",
   "execution_count": 8,
   "metadata": {},
   "outputs": [
    {
     "name": "stdout",
     "output_type": "stream",
     "text": [
      "[21 89]\n",
      "int64\n"
     ]
    }
   ],
   "source": [
    "ex3 = np.array([21.45, 89.01], dtype=np.int64)\n",
    "print(ex3)\n",
    "print(ex3.dtype)"
   ]
  },
  {
   "cell_type": "code",
   "execution_count": 15,
   "metadata": {},
   "outputs": [
    {
     "name": "stdout",
     "output_type": "stream",
     "text": [
      "[59.12 81.01 88.33]\n",
      "\n",
      "[59.12 81.01 88.33]\n"
     ]
    }
   ],
   "source": [
    "x = np.array([25,28,50], dtype = np.int)\n",
    "y = np.array([34.12, 53.01, 38.33], dtype = np.float64)\n",
    "\n",
    "print(x+y)\n",
    "print()\n",
    "\n",
    "#using add function\n",
    "print(np.add(x,y))\n"
   ]
  },
  {
   "cell_type": "code",
   "execution_count": null,
   "metadata": {},
   "outputs": [],
   "source": []
  }
 ],
 "metadata": {
  "kernelspec": {
   "display_name": "Python 3",
   "language": "python",
   "name": "python3"
  },
  "language_info": {
   "codemirror_mode": {
    "name": "ipython",
    "version": 3
   },
   "file_extension": ".py",
   "mimetype": "text/x-python",
   "name": "python",
   "nbconvert_exporter": "python",
   "pygments_lexer": "ipython3",
   "version": "3.5.0"
  }
 },
 "nbformat": 4,
 "nbformat_minor": 2
}
